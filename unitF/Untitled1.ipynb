{
 "cells": [
  {
   "cell_type": "code",
   "execution_count": 59,
   "metadata": {},
   "outputs": [
    {
     "name": "stdout",
     "output_type": "stream",
     "text": [
      "ROWS:  2\n",
      "III:  1\n",
      "III:  2\n",
      "    1\n",
      "\n",
      "    1    2\n",
      "\n",
      "    2    3    5\n",
      "\n",
      "    5    7   10   15\n",
      "\n",
      "   15   20   27   37   52\n",
      "\n",
      "   52   67   87  114  151  203\n",
      "\n",
      "  203  255  322  409  523  674  877\n",
      "\n",
      "  877 1080 1335 1657 2066 2589 3263 4140\n",
      "\n",
      " 4140 5017 6097 7432 908911155137441700721147\n",
      "\n",
      "211472528730304364014383352922640777782194828115975\n",
      "\n",
      "115975137122162409192713229114272947325869389946467767562595678570\n",
      "\n"
     ]
    }
   ],
   "source": [
    "def main():\n",
    "#     invoice(20,4,shipping=8)\n",
    "#     invoice(15,3,handling=15)\n",
    "#     printGroupMembers(\"Group A\", \"Li\", \"Audry\", \"Jia\") \n",
    "#     groupB = [\"Group B\", \"Sasha\", \"Migel\", \"Tanya\", \"Hiroto\"] \n",
    "#     printGroupMembers(groupB)\n",
    "    raggedTable = buildBell(2)\n",
    "    printBell(raggedTable)\n",
    "    \n",
    "# def invoice(unitPrice, quantity, shipping=10, handling=5):\n",
    "#     print(\"Cost (unitPrice x quantity)\",unitPrice*quantity)\n",
    "#     print(\"Shipping =\",shipping)\n",
    "#     print(\"Handling =\",handling)\n",
    "#     print(\"Total =\",unitPrice*quantity+shipping+handling)\n",
    "#     print()\n",
    "\n",
    "# def printGroupMembers(name, *args):\n",
    "#     print(name)\n",
    "    \n",
    "def buildBell(rows):\n",
    "    print(\"ROWS: \",rows)\n",
    "    bell[0][0] = 1\n",
    "    for i in range(1, rows+1):\n",
    "        print(\"III: \",i)\n",
    "        bell[i][0] = bell[i-1][i-1]\n",
    "        for j in range(1, i+1):\n",
    "            bell[i][j] = bell[i-1][j-1] + bell[i][j-1]\n",
    "    return bell\n",
    "\n",
    "def printBell(raggedTable):\n",
    "    for i in range(len(raggedTable)):\n",
    "        for j in range(0, i+1):\n",
    "            rjustString = str(raggedTable[i][j])\n",
    "            print(rjustString.rjust(5), end='')\n",
    "        print('\\n') \n",
    " \n",
    "    \n",
    "if __name__ == \"__main__\":\n",
    "    main()\n",
    "    "
   ]
  },
  {
   "cell_type": "code",
   "execution_count": null,
   "metadata": {},
   "outputs": [],
   "source": []
  },
  {
   "cell_type": "code",
   "execution_count": 20,
   "metadata": {},
   "outputs": [
    {
     "name": "stdout",
     "output_type": "stream",
     "text": [
      "Enter the limit for bell triangle 10\n",
      "1 \n",
      "\n",
      "1 2 \n",
      "\n",
      "2 3 5 \n",
      "\n",
      "5 7 10 15 \n",
      "\n",
      "15 20 27 37 52 \n",
      "\n",
      "52 67 87 114 151 203 \n",
      "\n",
      "203 255 322 409 523 674 877 \n",
      "\n",
      "877 1080 1335 1657 2066 2589 3263 4140 \n",
      "\n",
      "4140 5017 6097 7432 9089 11155 13744 17007 21147 \n",
      "\n",
      "21147 25287 30304 36401 43833 52922 64077 77821 94828 115975 \n",
      "\n",
      "115975 137122 162409 192713 229114 272947 325869 389946 467767 562595 678570 \n",
      "\n"
     ]
    }
   ],
   "source": [
    "# rows for the triangle, exclusing the first one\n",
    "number = int(input('Enter the limit for bell triangle '))\n",
    "\n",
    "# decrales empty 2D list\n",
    "bell = [[None]*(number+1) for _ in range(number+1)]\n",
    "bell[0][0] = 1\n",
    "\n",
    "# Computes the new value using previos value\n",
    "for i in range(1, number+1):\n",
    "    bell[i][0] = bell[i-1][i-1]\n",
    "    for j in range(1, i+1):\n",
    "        bell[i][j] = bell[i-1][j-1] + bell[i][j-1]\n",
    "\n",
    "# display the triangle\n",
    "for i in range(number+1):\n",
    "    for j in range(0, i+1):\n",
    "        print(bell[i][j], end=' ')\n",
    "    print('\\n') "
   ]
  },
  {
   "cell_type": "code",
   "execution_count": null,
   "metadata": {},
   "outputs": [],
   "source": []
  }
 ],
 "metadata": {
  "kernelspec": {
   "display_name": "Python 3",
   "language": "python",
   "name": "python3"
  },
  "language_info": {
   "codemirror_mode": {
    "name": "ipython",
    "version": 3
   },
   "file_extension": ".py",
   "mimetype": "text/x-python",
   "name": "python",
   "nbconvert_exporter": "python",
   "pygments_lexer": "ipython3",
   "version": "3.6.5"
  }
 },
 "nbformat": 4,
 "nbformat_minor": 2
}
