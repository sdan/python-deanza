{
 "cells": [
  {
   "cell_type": "code",
   "execution_count": 4,
   "metadata": {},
   "outputs": [
    {
     "name": "stdout",
     "output_type": "stream",
     "text": [
      "Hello world\n",
      "Help on function hello in module __main__:\n",
      "\n",
      "hello()\n",
      "    This function prints Hello World\n",
      "\n",
      "This function prints Hello World\n",
      "Hello world\n",
      "Help on function hello in module __main__:\n",
      "\n",
      "hello()\n",
      "    This function prints Hello World\n",
      "\n",
      "Error: bad index number.\n",
      "Original ID of myInt in main is 4428539296\n",
      "Original ID of myList in main is 4463444872\n",
      "Original ID of myList's last element in main is 4428539264\n",
      "Original ID of parameter in byVal 4428539296\n",
      "ID of parameter in byVal after change 4428539520\n",
      "Original ID of parameter in byRef 4463444872\n",
      "Original ID of parameter's last element in byRef 4428539264\n",
      "ID of parameter in byRef after change 4463444872\n",
      "ID of parameter's last element in byRef after change 4428539488\n",
      "ID of myInt in main after call to byVal is 4428539296\n",
      "ID of myList in main after call to byRef is 4463444872\n",
      "ID of myList's last element in main after call to byRef is 4428539488\n",
      "myInt is now: 3\n",
      "myList is now: [0, 1, 9]\n"
     ]
    }
   ],
   "source": [
    "def main():\n",
    "    hello()\n",
    "    help(hello)\n",
    "    print(hello.__doc__)\n",
    "\n",
    "def hello():\n",
    "    \"\"\"This function prints Hello World\"\"\"\n",
    "    print(\"Hello world\")\n",
    "\n",
    "if __name__ == \"__main__\":\n",
    "    main()\n",
    "\n",
    "hello()\n",
    "help(hello)\n",
    "\n",
    "def printListElement(list,index):\n",
    "    try:\n",
    "        print(list[index])\n",
    "    except:\n",
    "        print(\"Error: bad index number.\")\n",
    "myList = [0,1,2]\n",
    "printListElement(myList,3)\n",
    "        \n",
    "\n",
    "\n",
    "    \n",
    "myInt = 3\n",
    "myList = [0,1,2]\n",
    "print(\"Original ID of myInt in main is\",id(myInt))\n",
    "print(\"Original ID of myList in main is\",id(myList))\n",
    "print(\"Original ID of myList's last element in main is\",id(myList[2]))\n",
    "\n",
    "def byVal(value):\n",
    "    print(\"Original ID of parameter in byVal\",id(value))\n",
    "    value+=7\n",
    "    print(\"ID of parameter in byVal after change\",id(value))\n",
    "    \n",
    "def byRef(value):\n",
    "    print(\"Original ID of parameter in byRef\",id(value))\n",
    "    print(\"Original ID of parameter's last element in byRef\",id(value[-1]))\n",
    "    value[-1]+=7\n",
    "    print(\"ID of parameter in byRef after change\",id(value))\n",
    "    print(\"ID of parameter's last element in byRef after change\",id(value[-1]))\n",
    "    \n",
    "\n",
    "byVal(myInt)\n",
    "byRef(myList)\n",
    "print(\"ID of myInt in main after call to byVal is\",id(myInt))\n",
    "print(\"ID of myList in main after call to byRef is\",id(myList))\n",
    "print(\"ID of myList's last element in main after call to byRef is\",id(myList[-1]))\n",
    "print(\"myInt is now:\",myInt)\n",
    "print(\"myList is now:\",myList)\n",
    "\n",
    "\n"
   ]
  },
  {
   "cell_type": "code",
   "execution_count": null,
   "metadata": {},
   "outputs": [],
   "source": []
  }
 ],
 "metadata": {
  "kernelspec": {
   "display_name": "Python 3",
   "language": "python",
   "name": "python3"
  },
  "language_info": {
   "codemirror_mode": {
    "name": "ipython",
    "version": 3
   },
   "file_extension": ".py",
   "mimetype": "text/x-python",
   "name": "python",
   "nbconvert_exporter": "python",
   "pygments_lexer": "ipython3",
   "version": "3.6.5"
  }
 },
 "nbformat": 4,
 "nbformat_minor": 2
}
