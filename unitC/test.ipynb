{
 "cells": [
  {
   "cell_type": "code",
   "execution_count": 1,
   "metadata": {},
   "outputs": [
    {
     "name": "stdout",
     "output_type": "stream",
     "text": [
      "Slice of list3[1, 2]\n"
     ]
    }
   ],
   "source": [
    "list1 = []\n",
    "list1.extend((1,3,5))\n",
    "\n",
    "list2 = [1,2,3,4]\n",
    "\n",
    "list3 = list1+list2\n",
    "print('Slice of list3' + str(list3[3:5]))"
   ]
  },
  {
   "cell_type": "code",
   "execution_count": 20,
   "metadata": {},
   "outputs": [
    {
     "name": "stdout",
     "output_type": "stream",
     "text": [
      "d) list3 is: [1, 3, 5, 1, 2, 3, 4]\n",
      "e) list3 contains a 3: True\n",
      "f) list3 contains 2 3s\n",
      "g) The index of the first 3 contained in list3 is 1\n",
      "3\n",
      "h) first3 = 3\n",
      "j) list3 is now : [1, 5, 1, 2, 3, 4]\n",
      "j) list4 is: [1, 1, 2, 3, 4, 5]\n",
      "[1, 2, 3]\n"
     ]
    },
    {
     "ename": "AttributeError",
     "evalue": "'list' object has no attribute 'len'",
     "output_type": "error",
     "traceback": [
      "\u001b[0;31m---------------------------------------\u001b[0m",
      "\u001b[0;31mAttributeError\u001b[0mTraceback (most recent call last)",
      "\u001b[0;32m<ipython-input-20-c188357f27f4>\u001b[0m in \u001b[0;36m<module>\u001b[0;34m()\u001b[0m\n\u001b[1;32m     26\u001b[0m \u001b[0;34m\u001b[0m\u001b[0m\n\u001b[1;32m     27\u001b[0m \u001b[0mprint\u001b[0m\u001b[0;34m(\u001b[0m\u001b[0mlist3\u001b[0m\u001b[0;34m[\u001b[0m\u001b[0;36m2\u001b[0m\u001b[0;34m:\u001b[0m\u001b[0;36m5\u001b[0m\u001b[0;34m]\u001b[0m\u001b[0;34m)\u001b[0m\u001b[0;34m\u001b[0m\u001b[0m\n\u001b[0;32m---> 28\u001b[0;31m \u001b[0mprint\u001b[0m\u001b[0;34m(\u001b[0m\u001b[0mlist3\u001b[0m\u001b[0;34m.\u001b[0m\u001b[0mlen\u001b[0m\u001b[0;34m(\u001b[0m\u001b[0;34m)\u001b[0m\u001b[0;34m)\u001b[0m\u001b[0;34m\u001b[0m\u001b[0m\n\u001b[0m",
      "\u001b[0;31mAttributeError\u001b[0m: 'list' object has no attribute 'len'"
     ]
    }
   ],
   "source": [
    "# First Script\n",
    "list1 = []\n",
    "list1.extend((1,3,5))\n",
    "\n",
    "list2 = [1,2,3,4]\n",
    "\n",
    "list3 = list1+list2\n",
    "\n",
    "print(\"d) list3 is:\",list3)\n",
    "\n",
    "print(\"e) list3 contains a 3:\",3 in list3)\n",
    "\n",
    "print(\"f) list3 contains {0} 3s\".format(list3.count(3)))\n",
    "\n",
    "print(\"g) The index of the first 3 contained in list3 is\",list3.index(3))\n",
    "\n",
    "first3 = list3.pop(list3.index(3))\n",
    "print(first3)\n",
    "print(\"h) first3 =\",first3)\n",
    "\n",
    "list4 = copy.deepcopy(list3)\n",
    "list4.sort()\n",
    "\n",
    "print(\"j) list3 is now :\",list3)\n",
    "print(\"j) list4 is:\",list4)\n",
    "\n",
    "print(list3[2:5])\n",
    "print(list3.len())"
   ]
  },
  {
   "cell_type": "code",
   "execution_count": null,
   "metadata": {},
   "outputs": [],
   "source": [
    "j) list3 is now: [1, 5, 1, 2, 3, 4]\n",
    "j) list4 is: [1, 1, 2, 3, 4, 5]"
   ]
  }
 ],
 "metadata": {
  "kernelspec": {
   "display_name": "Python 3",
   "language": "python",
   "name": "python3"
  },
  "language_info": {
   "codemirror_mode": {
    "name": "ipython",
    "version": 3
   },
   "file_extension": ".py",
   "mimetype": "text/x-python",
   "name": "python",
   "nbconvert_exporter": "python",
   "pygments_lexer": "ipython3",
   "version": "3.6.5"
  }
 },
 "nbformat": 4,
 "nbformat_minor": 2
}
