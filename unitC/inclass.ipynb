{
 "cells": [
  {
   "cell_type": "code",
   "execution_count": 9,
   "metadata": {},
   "outputs": [
    {
     "name": "stdout",
     "output_type": "stream",
     "text": [
      "list1 == list2: True\n",
      "list1 == list3: True\n",
      "list2 == list3: True\n",
      "list1 is list2: False\n",
      "list1 is list3: False\n",
      "list2 is list3: False\n",
      "list1 ID: 4361030024\n",
      "list2 ID: 4361030728\n",
      "list3 ID: 4361030472\n",
      "[2, 4.1, 'hello', 8]\n",
      "[2, 'goodbye', 4.1, 'hello']\n",
      "[4.1, 'hello']\n"
     ]
    }
   ],
   "source": [
    "import copy\n",
    "\n",
    "list1 = [2,4.1,'hello']\n",
    "list2 = copy.copy(list1)\n",
    "list3 = copy.deepcopy(list1)\n",
    "\n",
    "print(\"list1 == list2:\",list1==list2)\n",
    "print(\"list1 == list3:\",list1==list3)\n",
    "print(\"list2 == list3:\",list2==list3)\n",
    "\n",
    "print(\"list1 is list2:\",list2 is list3)\n",
    "print(\"list1 is list3:\",list2 is list3)\n",
    "print(\"list2 is list3:\",list2 is list3)\n",
    "\n",
    "print(\"list1 ID:\",id(list1))\n",
    "print(\"list2 ID:\",id(list2))\n",
    "print(\"list3 ID:\",id(list3))\n",
    "\n",
    "list1.append(8)\n",
    "list2.insert(1, 'goodbye')\n",
    "del list3[0]\n",
    "\n",
    "print(list1)\n",
    "print(list2)\n",
    "print(list3)"
   ]
  },
  {
   "cell_type": "code",
   "execution_count": null,
   "metadata": {},
   "outputs": [],
   "source": []
  }
 ],
 "metadata": {
  "kernelspec": {
   "display_name": "Python 3",
   "language": "python",
   "name": "python3"
  },
  "language_info": {
   "codemirror_mode": {
    "name": "ipython",
    "version": 3
   },
   "file_extension": ".py",
   "mimetype": "text/x-python",
   "name": "python",
   "nbconvert_exporter": "python",
   "pygments_lexer": "ipython3",
   "version": "3.6.5"
  }
 },
 "nbformat": 4,
 "nbformat_minor": 2
}
