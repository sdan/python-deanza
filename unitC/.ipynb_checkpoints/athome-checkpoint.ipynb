{
 "cells": [
  {
   "cell_type": "code",
   "execution_count": 51,
   "metadata": {},
   "outputs": [
    {
     "name": "stdout",
     "output_type": "stream",
     "text": [
      "[1, 3, 5, 1, 2, 3, 4]\n",
      "True\n",
      "2\n",
      "1\n",
      "3\n",
      "[1, 5, 1, 2, 3, 4]\n",
      "[1, 1, 2, 3, 4, 5]\n",
      "[[1, 3, 5], [1, 2, 3, 4]]\n",
      "4\n"
     ]
    }
   ],
   "source": [
    "import copy\n",
    "\n",
    "list1 = []\n",
    "list1.extend((1,3,5))\n",
    "\n",
    "list2 = [1,2,3,4]\n",
    "\n",
    "list3 = list1+list2\n",
    "print(list3)\n",
    "\n",
    "print(3 in list3)\n",
    "print(list3.count(3))\n",
    "print(list3.index(3))\n",
    "first3 = list3.pop(list3.index(3))\n",
    "print(first3)\n",
    "list4 = copy.deepcopy(list3)\n",
    "list4.sort()\n",
    "\n",
    "print(list3)\n",
    "print(list4)\n",
    "\n",
    "list5 = [list1,list2]\n",
    "print(list5)\n",
    "print(list5[1][3])"
   ]
  },
  {
   "cell_type": "code",
   "execution_count": 55,
   "metadata": {},
   "outputs": [
    {
     "name": "stdout",
     "output_type": "stream",
     "text": [
      "b) binary of a = 0b1001\n",
      "b) binary of b = 0b1110\n",
      "c) binary of a & b = 0b1000\n",
      "d) binary of a | b = 0b1111\n"
     ]
    }
   ],
   "source": [
    "a = 9\n",
    "b = 14\n",
    "\n",
    "print(\"b) binary of a =\",bin(a))\n",
    "print(\"b) binary of b =\",bin(b))\n",
    "print(\"c) binary of a & b =\",bin(a&b))\n",
    "print(\"d) binary of a | b =\",bin(a|b))"
   ]
  },
  {
   "cell_type": "code",
   "execution_count": null,
   "metadata": {},
   "outputs": [],
   "source": []
  }
 ],
 "metadata": {
  "kernelspec": {
   "display_name": "Python 3",
   "language": "python",
   "name": "python3"
  },
  "language_info": {
   "codemirror_mode": {
    "name": "ipython",
    "version": 3
   },
   "file_extension": ".py",
   "mimetype": "text/x-python",
   "name": "python",
   "nbconvert_exporter": "python",
   "pygments_lexer": "ipython3",
   "version": "3.6.5"
  }
 },
 "nbformat": 4,
 "nbformat_minor": 2
}
