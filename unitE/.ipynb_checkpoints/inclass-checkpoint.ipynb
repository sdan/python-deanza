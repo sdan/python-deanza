{
 "cells": [
  {
   "cell_type": "code",
   "execution_count": 49,
   "metadata": {},
   "outputs": [
    {
     "name": "stdout",
     "output_type": "stream",
     "text": [
      "Please enter the plant name:Lily\n",
      "Please enter the plant type: Flower\n",
      "Please enter the plant height: 2\n",
      "A Lily can be planted in the Low Garden or High Garden\n"
     ]
    }
   ],
   "source": [
    "\n",
    "def plantedInVegetableGarden(type,height):\n",
    "    if(type==\"Vegetable\"):\n",
    "        return True\n",
    "    else:\n",
    "        return \n",
    "\n",
    "def plantedInLowGarden(type,height):\n",
    "    if(type==\"Flower\" and (int(height)<3 or int(height)==3)):\n",
    "        return True\n",
    "    else:\n",
    "        return \n",
    "\n",
    "def plantedInHighGarden(type,height):\n",
    "    if(type==\"Flower\" and (int(height)<6 or int(height)==6)):\n",
    "        return True\n",
    "    else:\n",
    "        return \n",
    "\n",
    "plantName = input(\"Please enter the plant name: \")\n",
    "plantType = input(\"Please enter the plant type: \")\n",
    "plantHeight = input(\"Please enter the plant height: \")\n",
    "\n",
    "whichGarden = []\n",
    "\n",
    "if(plantedInVegetableGarden(plantType,plantHeight)):\n",
    "    whichGarden.append(\"Vegetable Garden\")\n",
    "    \n",
    "if(plantedInLowGarden(plantType,plantHeight)):\n",
    "    whichGarden.append(\"Low Garden\")\n",
    "    \n",
    "if(plantedInHighGarden(plantType,plantHeight)):\n",
    "    whichGarden.append(\"High Garden\")\n",
    "\n",
    "if(len(whichGarden)==0):\n",
    "    print(\"A\",plantName,\"cannot be planted in any Garden\")\n",
    "if(len(whichGarden)==1 or len(whichGarden)>1 or len(whichGarden)>2):\n",
    "    print(\"A\",plantName,\"can be planted in the\",whichGarden[0],end=\"\")\n",
    "    if(len(whichGarden)>1):\n",
    "        print(\" or\",whichGarden[1])\n",
    "        if(len(whichGarden)>2):\n",
    "            print(\"or \",whichGarden[2])"
   ]
  },
  {
   "cell_type": "code",
   "execution_count": 41,
   "metadata": {},
   "outputs": [
    {
     "name": "stdout",
     "output_type": "stream",
     "text": [
      "Welcome to the guessing game.\n",
      "You need to guess a number from 1 to 100.\n",
      "What is your guess: 50\n",
      "Guess is too high.\n",
      "What is your guess: 25\n",
      "Guess is too low.\n",
      "What is your guess: 44\n",
      "Guess is too low.\n",
      "What is your guess: 45\n",
      "Guess is too low.\n",
      "What is your guess: 47\n",
      "Guess is too high.\n",
      "What is your guess: 46\n",
      "Congratulations!\n",
      "You guessed the secret number in 6 guesses!\n"
     ]
    }
   ],
   "source": [
    "secretNum = random.randint(1,100)\n",
    "\n",
    "print(\"Welcome to the guessing game.\")\n",
    "print(\"You need to guess a number from 1 to 100.\")\n",
    "\n",
    "guess=0\n",
    "counter=0\n",
    "\n",
    "while (guess != secretNum):\n",
    "    guess = int(input(\"What is your guess: \"))\n",
    "    counter+=1\n",
    "    \n",
    "    if(guess < secretNum):\n",
    "        print('Guess is too low.')\n",
    "    elif(guess > secretNum):\n",
    "        print('Guess is too high.')\n",
    "    else:\n",
    "        print(\"Congratulations!\")\n",
    "        print('You guessed the secret number in',counter,'guesses!')"
   ]
  },
  {
   "cell_type": "code",
   "execution_count": 48,
   "metadata": {},
   "outputs": [
    {
     "name": "stdout",
     "output_type": "stream",
     "text": [
      "a found at index 13\n",
      "a found at index 16\n",
      "a found at index 28\n",
      "a found at index 32\n",
      "Please enter the number of rows for the multiplication table:12\n",
      "1 \n",
      "2 4 \n",
      "3 6 9 \n",
      "4 8 12 16 \n",
      "5 10 15 20 25 \n",
      "6 12 18 24 30 36 \n",
      "7 14 21 28 35 42 49 \n",
      "8 16 24 32 40 48 56 64 \n",
      "9 18 27 36 45 54 63 72 81 \n",
      "10 20 30 40 50 60 70 80 90 100 \n",
      "11 22 33 44 55 66 77 88 99 110 121 \n",
      "12 24 36 48 60 72 84 96 108 120 132 144 \n"
     ]
    }
   ],
   "source": [
    "quote = \"Believe you can and you're halfway there.\"\n",
    "\n",
    "iterate = 0\n",
    "for findA in quote:\n",
    "    if(findA==\"a\"):\n",
    "        print(\"a found at index\",iterate)\n",
    "    iterate+=1\n",
    "\n",
    "rows = int(input('Please enter the number of rows for the multiplication table: '))\n",
    "    \n",
    "for i in range(rows):\n",
    "    for j in range(i+1):\n",
    "        print ((i+1)*(j+1), end=\" \")\n",
    "    print()"
   ]
  },
  {
   "cell_type": "code",
   "execution_count": null,
   "metadata": {},
   "outputs": [],
   "source": []
  }
 ],
 "metadata": {
  "kernelspec": {
   "display_name": "Python 3",
   "language": "python",
   "name": "python3"
  },
  "language_info": {
   "codemirror_mode": {
    "name": "ipython",
    "version": 3
   },
   "file_extension": ".py",
   "mimetype": "text/x-python",
   "name": "python",
   "nbconvert_exporter": "python",
   "pygments_lexer": "ipython3",
   "version": "3.6.5"
  }
 },
 "nbformat": 4,
 "nbformat_minor": 2
}
