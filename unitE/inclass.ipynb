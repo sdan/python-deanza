{
 "cells": [
  {
   "cell_type": "code",
   "execution_count": 4,
   "metadata": {},
   "outputs": [
    {
     "name": "stdout",
     "output_type": "stream",
     "text": [
      "Please enter a movie title:Dunkirk\n",
      "Sorry, I don't know what kind of movie  Dunkirk is.\n"
     ]
    }
   ],
   "source": [
    "scifi = ['Alien','Solaris','Inception','Moon']\n",
    "comedy = ['Borat','Idiocracy','Superbad','Bridesmaids']\n",
    "inputMove = input(\"Please enter a movie title:\")\n",
    "if(inputMove in scifi):\n",
    "    print(inputMove,\"is a scifi movie.\")\n",
    "elif(inputMove in comedy):\n",
    "    print(inputMove,\"is a comedy movie.\")\n",
    "else:\n",
    "    print(\"Sorry, I don't know what kind of movie\",inputMove,\"is.\")"
   ]
  },
  {
   "cell_type": "code",
   "execution_count": 11,
   "metadata": {},
   "outputs": [
    {
     "name": "stdout",
     "output_type": "stream",
     "text": [
      "10\n",
      "8\n",
      "6\n",
      "4\n",
      "2\n",
      "0\n"
     ]
    }
   ],
   "source": [
    "for x in range(10,-1,-1):\n",
    "    if(x%2==0):\n",
    "        print(x)"
   ]
  },
  {
   "cell_type": "code",
   "execution_count": 7,
   "metadata": {},
   "outputs": [
    {
     "name": "stdout",
     "output_type": "stream",
     "text": [
      "The Wizard of Oz was made in 1939\n",
      "The Godfather was made in 1972\n",
      "Lawrence of Arabia was made in 1962\n",
      "Raging Bull was made in 1980\n"
     ]
    }
   ],
   "source": [
    "movies = {\n",
    "    \"The Wizard of Oz\":1939,\n",
    "    \"The Godfather\":1972,\n",
    "    \"Lawrence of Arabia\":1962,\n",
    "    \"Raging Bull\":1980\n",
    "}\n",
    "for name, year in movies.items():\n",
    "    print(name,\"was made in\",year)\n"
   ]
  },
  {
   "cell_type": "code",
   "execution_count": null,
   "metadata": {},
   "outputs": [],
   "source": []
  }
 ],
 "metadata": {
  "kernelspec": {
   "display_name": "Python 3",
   "language": "python",
   "name": "python3"
  },
  "language_info": {
   "codemirror_mode": {
    "name": "ipython",
    "version": 3
   },
   "file_extension": ".py",
   "mimetype": "text/x-python",
   "name": "python",
   "nbconvert_exporter": "python",
   "pygments_lexer": "ipython3",
   "version": "3.6.5"
  }
 },
 "nbformat": 4,
 "nbformat_minor": 2
}
