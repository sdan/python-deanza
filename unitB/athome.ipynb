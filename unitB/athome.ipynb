{
 "cells": [
  {
   "cell_type": "code",
   "execution_count": 24,
   "metadata": {},
   "outputs": [
    {
     "name": "stdout",
     "output_type": "stream",
     "text": [
      "Enter input:asd\n",
      "False\n",
      "False\n",
      "True\n",
      "Type, type, type away.\n",
      "Compile. Run. Hip hip hooray!\n",
      "No error today!\n",
      "\n",
      "And now\n",
      "rent\n",
      "me\n",
      "Adnwfrsmtigcmltl ifrn\n",
      "tnereffid yletelpmoc gnihtemos rof won dnA\n",
      ".~*''*~..~*''*~..~*''*~..~*''*~..~*''*~.\n"
     ]
    }
   ],
   "source": [
    "''' \n",
    "Surya Dantuluri\n",
    "CIS 41A   Fall 2018 \n",
    "Unit B take-home assignment\n",
    "\n",
    "First Script - Working with Strings\n",
    "'''\n",
    "\n",
    "string = input(\"Enter input:\")\n",
    "print(string.isupper())\n",
    "print(string.isdigit())\n",
    "print(string.isalpha())\n",
    "\n",
    "var = \"Type, type, type away.\\nCompile. Run. Hip hip hooray!\\nNo error today!\"\n",
    "print(var)\n",
    "\n",
    "quote = \"And now for something completely different\"\n",
    "\n",
    "print(quote[:7])\n",
    "print(quote[38:])\n",
    "print(quote[14:16])\n",
    "print(quote[::2])\n",
    "print(quote[::-1])\n",
    "\n",
    "pattern1 = \".~*'\"\n",
    "pattern2 = pattern1+pattern1[::-1]\n",
    "\n",
    "print(pattern2 * 5)"
   ]
  },
  {
   "cell_type": "code",
   "execution_count": 45,
   "metadata": {},
   "outputs": [
    {
     "name": "stdout",
     "output_type": "stream",
     "text": [
      "Enter number of small beads:10\n",
      "Enter number of medium beads:9\n",
      "Enter number of large beads:8\n",
      "SIZE       QTY   COST PER BOX      TOTALS\n",
      "Small       10           9.20       92.00\n",
      "Medium      9            8.52       76.68\n",
      "Large       8            7.98       63.84\n",
      "TOTAL                              232.52\n"
     ]
    }
   ],
   "source": [
    "SBEADS = 9.20\n",
    "MBEADS = 8.52\n",
    "LBEADS = 7.98\n",
    "\n",
    "qsbeads = int(input(\"Enter number of small beads:\"))\n",
    "qmbeads = int(input(\"Enter number of medium beads:\"))\n",
    "qlbeads = int(input(\"Enter number of large beads:\"))\n",
    "\n",
    "tsbeads = SBEADS*qsbeads\n",
    "tmbeads = MBEADS*qmbeads\n",
    "tlbeads = LBEADS*qlbeads\n",
    "total = tsbeads+tmbeads+tlbeads\n",
    "\n",
    "print(\"SIZE       QTY   COST PER BOX      TOTALS\")\n",
    "print(f\"Small       {qsbeads}           {SBEADS:.2f}       {tsbeads:.2f}\")\n",
    "print(f\"Medium      {qmbeads}            {MBEADS:.2f}       {tmbeads:.2f}\")\n",
    "print(f\"Large       {qlbeads}            {LBEADS:.2f}       {tlbeads:.2f}\")\n",
    "print(f\"TOTAL                              {total:.2f}\") "
   ]
  },
  {
   "cell_type": "code",
   "execution_count": null,
   "metadata": {},
   "outputs": [],
   "source": []
  }
 ],
 "metadata": {
  "kernelspec": {
   "display_name": "Python 3",
   "language": "python",
   "name": "python3"
  },
  "language_info": {
   "codemirror_mode": {
    "name": "ipython",
    "version": 3
   },
   "file_extension": ".py",
   "mimetype": "text/x-python",
   "name": "python",
   "nbconvert_exporter": "python",
   "pygments_lexer": "ipython3",
   "version": "3.6.5"
  }
 },
 "nbformat": 4,
 "nbformat_minor": 2
}
