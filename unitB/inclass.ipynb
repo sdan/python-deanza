{
 "cells": [
  {
   "cell_type": "code",
   "execution_count": 12,
   "metadata": {},
   "outputs": [
    {
     "name": "stdout",
     "output_type": "stream",
     "text": [
      "Enter your nameGeorge Washington\n",
      "GEORGE WASHINGTON\n",
      "16\n",
      "r\n",
      "Gexrge Washingtxn\n",
      "George Washington\n"
     ]
    }
   ],
   "source": [
    "name = (str(input(\"Enter your name\")))\n",
    "print(name.upper())\n",
    "print(len(name)-1)\n",
    "print(name[3])\n",
    "\n",
    "name2 = name.replace(\"o\", \"x\")\n",
    "print(name2)\n",
    "print(name)"
   ]
  },
  {
   "cell_type": "code",
   "execution_count": 15,
   "metadata": {},
   "outputs": [
    {
     "name": "stdout",
     "output_type": "stream",
     "text": [
      "4\n",
      "13\n",
      "16\n",
      "28\n",
      "32\n"
     ]
    }
   ],
   "source": [
    "quote = \"Believe you can and you're halfway there.\"\n",
    "print(quote.count('a'))\n",
    "\n",
    "first_instance = quote.find(\"a\")\n",
    "print(first_instance)\n",
    "\n",
    "second_instance = quote.find(\"a\", first_instance+1)\n",
    "print(second_instance)\n",
    "\n",
    "third_instance = quote.find(\"a\", second_instance+1)\n",
    "print(third_instance)\n",
    "\n",
    "fourth_instance = quote.find(\"a\", third_instance+1)\n",
    "print(fourth_instance)"
   ]
  },
  {
   "cell_type": "code",
   "execution_count": null,
   "metadata": {},
   "outputs": [],
   "source": []
  }
 ],
 "metadata": {
  "kernelspec": {
   "display_name": "Python 3",
   "language": "python",
   "name": "python3"
  },
  "language_info": {
   "codemirror_mode": {
    "name": "ipython",
    "version": 3
   },
   "file_extension": ".py",
   "mimetype": "text/x-python",
   "name": "python",
   "nbconvert_exporter": "python",
   "pygments_lexer": "ipython3",
   "version": "3.6.5"
  }
 },
 "nbformat": 4,
 "nbformat_minor": 2
}
