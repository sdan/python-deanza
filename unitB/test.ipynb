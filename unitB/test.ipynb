{
 "cells": [
  {
   "cell_type": "code",
   "execution_count": 5,
   "metadata": {},
   "outputs": [
    {
     "name": "stdout",
     "output_type": "stream",
     "text": [
      "Sammy ate         75 percent of a pizza!\n"
     ]
    }
   ],
   "source": [
    "# print(f'{helo:10} ==> hello')\n",
    "print(\"Sammy ate {0:10} percent of a {1}!\".format(75, \"pizza\"))"
   ]
  },
  {
   "cell_type": "code",
   "execution_count": 59,
   "metadata": {},
   "outputs": [
    {
     "name": "stdout",
     "output_type": "stream",
     "text": [
      "SIZE     QTY   COST PER BOX     TOTALS\n",
      "Small     10           9.20      92.00\n",
      "Medium     9           8.52      76.84\n",
      "Large      8           7.98      63.84\n",
      "TOTAL                           232.52\n"
     ]
    }
   ],
   "source": [
    "qsbeads = 10\n",
    "qmbeads = 9\n",
    "qlbeads = 8\n",
    "SBEADS = 9.20\n",
    "MBEADS = 8.52\n",
    "LBEADS = 7.98\n",
    "tsbeads = 92.00\n",
    "tmbeads = 76.84\n",
    "tlbeads = 63.84\n",
    "total = 232.52\n",
    "print(\"{0:<9}{1:<6}{2:<17}{3:<5}\".format(\"SIZE\", \"QTY\", \"COST PER BOX\", \"TOTALS\"))\n",
    "print(\"{0:<10}{1:>2}{2:>15.2f}{3:>11.2f}\".format(\"Small\", qsbeads, SBEADS, tsbeads))\n",
    "print(\"{0:<10}{1:>2}{2:>15.2f}{3:>11.2f}\".format(\"Medium\", qmbeads, MBEADS, tmbeads))\n",
    "print(\"{0:<10}{1:>2}{2:>15.2f}{3:>11.2f}\".format(\"Large\", qlbeads, LBEADS, tlbeads))\n",
    "print(\"{0:<32}{1:.2f}\".format(\"TOTAL\", total))\n"
   ]
  },
  {
   "cell_type": "markdown",
   "metadata": {},
   "source": []
  }
 ],
 "metadata": {
  "kernelspec": {
   "display_name": "Python 3",
   "language": "python",
   "name": "python3"
  },
  "language_info": {
   "codemirror_mode": {
    "name": "ipython",
    "version": 3
   },
   "file_extension": ".py",
   "mimetype": "text/x-python",
   "name": "python",
   "nbconvert_exporter": "python",
   "pygments_lexer": "ipython3",
   "version": "3.6.5"
  }
 },
 "nbformat": 4,
 "nbformat_minor": 2
}
