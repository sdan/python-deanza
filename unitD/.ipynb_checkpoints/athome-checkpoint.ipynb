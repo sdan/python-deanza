{
 "cells": [
  {
   "cell_type": "code",
   "execution_count": 34,
   "metadata": {},
   "outputs": [
    {
     "name": "stdout",
     "output_type": "stream",
     "text": [
      "Students in all three classes: ['Migel']\n",
      "All students: ['Anita', 'Audry', 'Hiroto', 'Jia', 'Li', 'Migel', 'Sasha', 'Tanya', 'Zhang']\n",
      "Students in class1 but not class2 or class3: {'Li'}\n",
      "[1, 3, 2]\n",
      "Casablanca\n",
      "Casablanca\n",
      "Ingrid Bergman\n",
      "Moviestars(title='Casablanca', year=1942, genre='romantic drama', stars=['Humphrey Bogart', 'Ingrid Bergman', 'Claude Rains'])\n"
     ]
    }
   ],
   "source": [
    "from collections import namedtuple\n",
    "\n",
    "\n",
    "class1 = set(['Li', 'Audry', 'Jia', 'Migel', 'Tanya'])\n",
    "class2 = set(['Sasha', 'Migel', 'Tanya', 'Hiroto', 'Audry'])\n",
    "class3 = set(['Migel', 'Zhang', 'Hiroto', 'Anita', 'Jia'])\n",
    "print(\"Students in all three classes:\",sorted(class1.intersection(class2).intersection(class3)))\n",
    "print(\"All students:\",sorted(class1.union(class2).union(class3)))\n",
    "print(\"Students in class1 but not class2 or class3:\",class1.difference(class2.union(class3)))\n",
    "list = [1,2,3]\n",
    "list[1], list[2] = list[2], list[1]\n",
    "print(list)\n",
    "Casablanca = (\"Casablanca\", 1942, \"romantic drama\")\n",
    "title = casa[0]\n",
    "year = casa[1]\n",
    "genre = casa[2]\n",
    "print(\"My favorite movie is:\",title)\n",
    "Movie = namedtuple('Movie', 'title year genre')\n",
    "sometuple = Movie(title=\"Casablanca\", year=1942, genre=\"romantic drama\")\n",
    "print(\"My favorite movie is:\",sometuple.title)\n",
    "\n",
    "Moviestars = namedtuple('Moviestars', 'title, year, genre, stars')\n",
    "favoritemovie = Moviestars(title=\"Casablanca\", year=1942, genre=\"romantic drama\", stars=[\"Humphrey Bogart\", \"Ingrid Bergman\"])\n",
    "favoritemovie.stars.append(\"Claude Rains\")\n",
    "print(\"My favorite star is:\",favoritemovie.stars[1])\n",
    "print(favoritemovie)\n",
    "\n",
    "\n",
    "\n",
    "\n"
   ]
  },
  {
   "cell_type": "code",
   "execution_count": null,
   "metadata": {},
   "outputs": [],
   "source": []
  },
  {
   "cell_type": "code",
   "execution_count": null,
   "metadata": {},
   "outputs": [],
   "source": []
  }
 ],
 "metadata": {
  "kernelspec": {
   "display_name": "Python 3",
   "language": "python",
   "name": "python3"
  },
  "language_info": {
   "codemirror_mode": {
    "name": "ipython",
    "version": 3
   },
   "file_extension": ".py",
   "mimetype": "text/x-python",
   "name": "python",
   "nbconvert_exporter": "python",
   "pygments_lexer": "ipython3",
   "version": "3.6.5"
  }
 },
 "nbformat": 4,
 "nbformat_minor": 2
}
