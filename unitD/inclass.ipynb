{
 "cells": [
  {
   "cell_type": "code",
   "execution_count": 1,
   "metadata": {},
   "outputs": [
    {
     "name": "stdout",
     "output_type": "stream",
     "text": [
      "{'apple': 'sauce', 'peach': 'cobbler', 'carrot': 'cake', 'strawberry': 'sorbet', 'banana': 'cream pie'}\n",
      "sauce\n",
      "True\n",
      "False\n",
      "dict_keys(['apple', 'peach', 'strawberry', 'banana', 'mango'])\n",
      "dict_values(['sauce', 'cobbler', 'shortcake', 'cream pie', 'sticky rice'])\n",
      "dict_items([('apple', 'sauce'), ('peach', 'cobbler'), ('strawberry', 'shortcake'), ('banana', 'cream pie'), ('mango', 'sticky rice')])\n"
     ]
    }
   ],
   "source": [
    "food = {\n",
    "    'apple':'sauce',\n",
    "    'peach':'cobbler',\n",
    "    'carrot':'cake',\n",
    "    'strawberry':'sorbet',\n",
    "    'banana':'cream pie'\n",
    "}\n",
    "print(food)\n",
    "food.update({'mango':'sticky rice'})\n",
    "food['strawberry'] = 'shortcake'\n",
    "del food['carrot']\n",
    "print(food['apple'])\n",
    "print('banana' in food)\n",
    "print('pear' in food)\n",
    "print(food.keys())\n",
    "print(food.values())\n",
    "print(food.items())\n",
    "\n"
   ]
  },
  {
   "cell_type": "code",
   "execution_count": 2,
   "metadata": {},
   "outputs": [
    {
     "data": {
      "text/plain": [
       "['Denver', 'Hartford', 'Juneau', 'Little Rock', 'Montgomery', 'Phoenix', 'Sac']"
      ]
     },
     "execution_count": 2,
     "metadata": {},
     "output_type": "execute_result"
    }
   ],
   "source": [
    "capitols1 = {\n",
    "    'Alabama':'Montgomery',\n",
    "    'Alaska':'Juneau', \n",
    "    'Arizona':'Phoenix', \n",
    "    'Arkansas':'Little Rock', \n",
    "    'California':'Sacramento'\n",
    "}\n",
    "capitols2 = {\n",
    "    'California':'Sac',\n",
    "    'Colorado':'Denver',\n",
    "    'Connecticut':'Hartford'\n",
    "}\n",
    "\n",
    "capitols1.update(capitols2)\n",
    "sorted(capitols1.values())"
   ]
  },
  {
   "cell_type": "code",
   "execution_count": 6,
   "metadata": {},
   "outputs": [
    {
     "name": "stdout",
     "output_type": "stream",
     "text": [
      "['Audry', 'Migel', 'Tanya']\n",
      "['Audry', 'Hiroto', 'Jia', 'John', 'Li', 'Migel', 'Sasha', 'Tanya']\n",
      "False\n"
     ]
    }
   ],
   "source": [
    "class1 = set(['Li', 'Audry', 'Jia', 'Migel', 'Tanya'])\n",
    "class2 = set(['Sasha', 'Migel', 'Tanya', 'Hiroto', 'Audry'])\n",
    "class1.add('John')\n",
    "print(sorted(class1.intersection(class2)))\n",
    "print(sorted(class1.union(class2)))\n",
    "print('Sasha' in class1)"
   ]
  },
  {
   "cell_type": "code",
   "execution_count": null,
   "metadata": {},
   "outputs": [],
   "source": []
  }
 ],
 "metadata": {
  "kernelspec": {
   "display_name": "Python 3",
   "language": "python",
   "name": "python3"
  },
  "language_info": {
   "codemirror_mode": {
    "name": "ipython",
    "version": 3
   },
   "file_extension": ".py",
   "mimetype": "text/x-python",
   "name": "python",
   "nbconvert_exporter": "python",
   "pygments_lexer": "ipython3",
   "version": "3.6.5"
  }
 },
 "nbformat": 4,
 "nbformat_minor": 2
}
