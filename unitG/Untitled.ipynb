{
 "cells": [
  {
   "cell_type": "code",
   "execution_count": 101,
   "metadata": {},
   "outputs": [
    {
     "name": "stdout",
     "output_type": "stream",
     "text": [
      "The state with the most presidents is  VA  with 8 presidents:\n",
      "George_Washington\n",
      "James_Madison\n",
      "James_Monroe\n",
      "John_Tyler\n",
      "Thomas_Jefferson\n",
      "William_Henry_Harrison\n",
      "Woodrow_Wilson\n",
      "Zachary_Taylor\n",
      "8 of the 10  high population states have had presidents born in them:\n",
      "CA 1\n",
      "GA 1\n",
      "IL 1\n",
      "NC 2\n",
      "NY 5\n",
      "OH 7\n",
      "PA 1\n",
      "TX 2\n"
     ]
    }
   ],
   "source": [
    "def findPopulation(just):\n",
    "    return int(''.join(i for i in just if i.isdigit()))\n",
    "\n",
    "file = open(\"States.txt\", \"r\") \n",
    "cool = []\n",
    "for line in file:\n",
    "    if(\"Midwest\" in line):\n",
    "        cool.append(line)\n",
    "cool.sort(reverse=True,key=findPopulation)\n",
    "print(\"Highest population state in the Midwest is:\",cool[0])\n",
    "\n",
    "def findLengthofList(someList):\n",
    "    return len(someList)\n",
    "file = open(\"USPresidents.txt\", \"r\")\n",
    "dict = {}\n",
    "for line in file:\n",
    "    data = line.split()\n",
    "    state = data[0]\n",
    "    president = data[1]\n",
    "    if(state not in dict):\n",
    "        dict[state] = [president]\n",
    "    else:\n",
    "        dict[state].append(president)\n",
    "\n",
    "most = 0\n",
    "mostPresidents = 0\n",
    "for key, value in dict.items():\n",
    "    if(len(value)>most):\n",
    "        most = len(value)\n",
    "        mostPresidents = key\n",
    "        \n",
    "print(\"The state with the most presidents is \",mostPresidents,\" with\",most,\"presidents:\")\n",
    "for items in dict[mostPresidents]:\n",
    "      print(items)\n",
    "\n",
    "popStates = {'CA', 'TX', 'FL', 'NY', 'IL', 'PA', 'OH', 'GA', 'NC', 'MI'}\n",
    "\n",
    "print(len(popStates.intersection(dict)),\"of the\",len(popStates),\" high population states have had presidents born in them:\")\n",
    "for key, value in sorted(dict.items()):\n",
    "    if(key in popStates.intersection(dict)):\n",
    "        print(key,len(value))"
   ]
  },
  {
   "cell_type": "code",
   "execution_count": null,
   "metadata": {},
   "outputs": [],
   "source": [
    "\n",
    "\n"
   ]
  }
 ],
 "metadata": {
  "kernelspec": {
   "display_name": "Python 3",
   "language": "python",
   "name": "python3"
  },
  "language_info": {
   "codemirror_mode": {
    "name": "ipython",
    "version": 3
   },
   "file_extension": ".py",
   "mimetype": "text/x-python",
   "name": "python",
   "nbconvert_exporter": "python",
   "pygments_lexer": "ipython3",
   "version": "3.6.5"
  }
 },
 "nbformat": 4,
 "nbformat_minor": 2
}
